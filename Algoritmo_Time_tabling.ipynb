{
  "cells": [
    {
      "cell_type": "markdown",
      "metadata": {
        "id": "view-in-github",
        "colab_type": "text"
      },
      "source": [
        "<a href=\"https://colab.research.google.com/github/candidobri2/time-tabling/blob/main/Algoritmo_Time_tabling.ipynb\" target=\"_parent\"><img src=\"https://colab.research.google.com/assets/colab-badge.svg\" alt=\"Open In Colab\"/></a>"
      ]
    },
    {
      "cell_type": "code",
      "execution_count": null,
      "metadata": {
        "id": "0AubmJTkMc8q"
      },
      "outputs": [],
      "source": [
        "import numpy as np\n",
        "import random as rd\n",
        "from scipy.optimize import linear_sum_assignment\n",
        "import time"
      ]
    },
    {
      "cell_type": "markdown",
      "metadata": {
        "id": "Ry8V1gVjlqYr"
      },
      "source": [
        "## Passo 1 - Leitura dos parâmetros"
      ]
    },
    {
      "cell_type": "code",
      "execution_count": null,
      "metadata": {
        "colab": {
          "base_uri": "https://localhost:8080/"
        },
        "id": "scWnzGr1lkUN",
        "outputId": "de40375c-2024-4eb1-bc13-287bd059957c"
      },
      "outputs": [
        {
          "output_type": "stream",
          "name": "stdout",
          "text": [
            "Reading entities\n",
            "Reading requirements\n",
            "Reading teacherunavailabilities\n",
            "{'classes': {'from': 0, 'to': 3}, 'teachers': {'from': 0, 'to': 15}, 'days': {'from': 0, 'to': 4}, 'periods': {'from': 0, 'to': 4}}\n",
            "[(0, 0, 5, 3, 1), (0, 1, 1, 1, 0), (0, 2, 1, 1, 0), (0, 3, 2, 2, 1), (0, 4, 3, 3, 1), (0, 1, 4, 2, 2), (0, 5, 1, 1, 0), (0, 6, 1, 1, 0), (0, 7, 2, 2, 1), (0, 8, 1, 1, 0), (0, 9, 2, 2, 1), (0, 10, 2, 1, 0), (1, 1, 1, 1, 0), (1, 2, 1, 1, 0), (1, 0, 5, 3, 1), (1, 1, 4, 2, 2), (1, 11, 3, 3, 1), (1, 3, 2, 2, 1), (1, 9, 2, 2, 1), (1, 6, 1, 1, 0), (1, 8, 1, 1, 0), (1, 5, 1, 1, 0), (1, 7, 2, 2, 1), (1, 12, 2, 1, 0), (2, 13, 2, 2, 1), (2, 2, 1, 1, 0), (2, 0, 5, 3, 1), (2, 1, 4, 2, 2), (2, 9, 2, 2, 1), (2, 1, 1, 1, 0), (2, 5, 2, 2, 1), (2, 6, 1, 1, 0), (2, 5, 1, 1, 0), (2, 4, 3, 3, 1), (2, 8, 1, 1, 0), (2, 14, 2, 1, 0), (3, 2, 1, 1, 0), (3, 1, 1, 1, 0), (3, 13, 2, 2, 1), (3, 0, 5, 3, 1), (3, 9, 2, 2, 1), (3, 1, 4, 2, 2), (3, 11, 1, 1, 0), (3, 6, 1, 1, 0), (3, 6, 1, 1, 0), (3, 11, 2, 2, 1), (3, 7, 2, 2, 1), (3, 8, 1, 1, 0), (3, 15, 2, 1, 0)]\n",
            "49\n",
            "[(8, 0, 0), (8, 0, 1), (8, 0, 2), (8, 0, 3), (8, 0, 4), (8, 1, 0), (8, 1, 1), (8, 1, 2), (8, 1, 3), (8, 1, 4), (8, 2, 0), (8, 2, 1), (8, 2, 2), (8, 2, 3), (8, 2, 4), (8, 3, 0), (8, 3, 1), (8, 3, 2), (8, 3, 3), (8, 3, 4), (10, 0, 0), (10, 0, 1), (10, 0, 2), (10, 0, 3), (10, 1, 0), (10, 1, 1), (10, 1, 2), (10, 1, 3), (10, 2, 0), (10, 2, 1), (10, 2, 2), (10, 2, 3), (10, 3, 0), (10, 3, 1), (10, 3, 2), (10, 3, 3), (10, 4, 0), (10, 4, 1), (10, 4, 2), (10, 4, 3), (12, 0, 0), (12, 0, 1), (12, 0, 2), (12, 0, 3), (12, 1, 0), (12, 1, 1), (12, 1, 2), (12, 1, 3), (12, 2, 0), (12, 2, 1), (12, 2, 2), (12, 2, 3), (12, 3, 0), (12, 3, 1), (12, 3, 2), (12, 4, 0), (12, 4, 1), (12, 4, 2), (12, 4, 3), (12, 3, 0), (14, 0, 0), (14, 0, 1), (14, 0, 2), (14, 0, 3), (14, 1, 0), (14, 1, 1), (14, 1, 2), (14, 1, 3), (14, 2, 0), (14, 2, 1), (14, 2, 2), (14, 2, 3), (14, 3, 0), (14, 3, 1), (14, 3, 2), (14, 3, 3), (14, 4, 0), (14, 4, 1), (14, 4, 2), (14, 4, 3), (15, 0, 0), (15, 0, 1), (15, 0, 2), (15, 0, 3), (15, 1, 0), (15, 1, 1), (15, 1, 2), (15, 1, 3), (15, 2, 0), (15, 2, 1), (15, 2, 2), (15, 2, 3), (15, 3, 0), (15, 3, 1), (15, 3, 2), (15, 3, 3), (15, 4, 0), (15, 4, 1), (15, 4, 2), (15, 4, 3)]\n"
          ]
        }
      ],
      "source": [
        "# UFC/DEMA, 2022.1 - Lab. de Otimizacao (CC0328)\n",
        "\n",
        "import xml.etree.ElementTree as ET\n",
        " \n",
        "def read_entities(root):\n",
        "    d = dict()\n",
        "    for e in root:\n",
        "        e_from = int(e.get('from'))\n",
        "        e_to = int(e.get('to'))\n",
        "        d[e.tag] = {}\n",
        "        d[e.tag]['from'] = e_from\n",
        "        d[e.tag]['to'] = e_to\n",
        "    return d\n",
        "\n",
        "def read_requirements(root):\n",
        "    R = []\n",
        "    \n",
        "    for e in root:\n",
        "        d = dict()\n",
        "        \n",
        "        c = int(e.get('class'))\n",
        "        t = int(e.get('teacher'))\n",
        "        theta = int(e.get('lessons'))\n",
        "        lambd = int(e.get('max_per_day'))\n",
        "        mu = int(e.get('double_lessons'))\n",
        "        R.append((c,t,theta,lambd,mu))\n",
        "\n",
        "    return R\n",
        "\n",
        "def read_unavailabilities(root):\n",
        "    U = []\n",
        "    \n",
        "    for e in root:\n",
        "        d = dict()\n",
        "        \n",
        "        t = int(e.get('teacher'))\n",
        "        d = int(e.get('day'))\n",
        "        h = int(e.get('period'))\n",
        "        U.append((t,d,h))\n",
        "\n",
        "    return U\n",
        "\n",
        "\n",
        "# Passing the path of the xml document\n",
        "tree = ET.parse('params_rds.xml')\n",
        " \n",
        "# getting the parent tag of the xml document\n",
        "root = tree.getroot()\n",
        "\n",
        "   \n",
        "assert root.tag == 'file' and root[0].tag == 'data'\n",
        "\n",
        "for secao in root[0]:\n",
        "    print(f'Reading {secao.tag}')\n",
        "    \n",
        "    if secao.tag == 'entities':\n",
        "        params = read_entities(secao)\n",
        "    elif secao.tag == 'requirements':\n",
        "        R = read_requirements(secao)\n",
        "    elif secao.tag == 'teacherunavailabilities':\n",
        "        U = read_unavailabilities(secao)\n",
        "\n",
        "print(params)\n",
        "print(R)\n",
        "print(len(R))\n",
        "print(U)\n",
        "\n"
      ]
    },
    {
      "cell_type": "code",
      "execution_count": null,
      "metadata": {
        "id": "luKh2FmgLuks"
      },
      "outputs": [],
      "source": [
        "###função algoritmo construtivo\n",
        "def algoritmo_construtivo(U,R,params):\n",
        "  n_teachers = params[\"teachers\"][\"to\"]+1\n",
        "  n_periods =  (params['days'][\"to\"]+1) * (params[\"periods\"][\"to\"]+1)\n",
        "  turmas = params[\"classes\"][\"to\"]+1\n",
        "\n",
        "  z = np.full(((params[\"classes\"][\"to\"]+1),(params[\"days\"][\"to\"]+1)*(params[\"periods\"][\"to\"]+1)),-1)\n",
        "\n",
        "  for i in R:\n",
        "    c = i[0]\n",
        "    aula_semana = i[2]\n",
        "    while aula_semana>0:\n",
        "        a = rd.choice(range((params[\"days\"][\"to\"]+1)*(params[\"periods\"][\"to\"]+1)))\n",
        "        if z[c][a] == -1:\n",
        "            z[c][a] = R.index(i)\n",
        "            aula_semana-=1\n",
        "\n",
        "  return z,n_teachers,n_periods,turmas\n",
        "\n"
      ]
    },
    {
      "cell_type": "code",
      "execution_count": null,
      "metadata": {
        "id": "Rw3zCCEIQZGu"
      },
      "outputs": [],
      "source": [
        "z, n_teachers,n_periods,turmas = algoritmo_construtivo(U,R,params)\n"
      ]
    },
    {
      "cell_type": "code",
      "source": [
        "z"
      ],
      "metadata": {
        "colab": {
          "base_uri": "https://localhost:8080/"
        },
        "id": "dbt4zCi8UBIr",
        "outputId": "174955f9-1ad9-483e-8071-9bed2868f2b2"
      },
      "execution_count": null,
      "outputs": [
        {
          "output_type": "execute_result",
          "data": {
            "text/plain": [
              "array([[ 4,  4, 10,  7,  0,  0,  5,  9,  2, 10, 11,  0,  5,  3,  5,  0,\n",
              "         8,  8,  3,  5,  0, 11,  4,  1,  6],\n",
              "       [13, 15, 15, 14, 16, 14, 14, 12, 15, 22, 14, 21, 17, 23, 19, 18,\n",
              "        18, 16, 22, 16, 14, 15, 20, 23, 17],\n",
              "       [34, 30, 31, 33, 28, 33, 26, 26, 26, 24, 30, 26, 27, 29, 28, 32,\n",
              "        35, 35, 27, 27, 25, 27, 33, 26, 24],\n",
              "       [48, 47, 41, 38, 39, 39, 43, 39, 40, 42, 36, 46, 39, 45, 46, 43,\n",
              "        45, 40, 41, 38, 39, 41, 48, 41, 37]])"
            ]
          },
          "metadata": {},
          "execution_count": 5
        }
      ]
    },
    {
      "cell_type": "code",
      "source": [
        "turmas"
      ],
      "metadata": {
        "colab": {
          "base_uri": "https://localhost:8080/"
        },
        "id": "iR23UXdUfqZL",
        "outputId": "2bbe6c84-c2f1-40ab-cdb5-7e45f46a5b38"
      },
      "execution_count": null,
      "outputs": [
        {
          "output_type": "execute_result",
          "data": {
            "text/plain": [
              "4"
            ]
          },
          "metadata": {},
          "execution_count": 76
        }
      ]
    },
    {
      "cell_type": "markdown",
      "metadata": {
        "id": "bytxOLNCEnIC"
      },
      "source": [
        "### Implementando dicionário com indisponibilidades dos professores, convertendo para o indice da coluna para ser usado na HC4\n"
      ]
    },
    {
      "cell_type": "code",
      "execution_count": null,
      "metadata": {
        "id": "WWL_uWJOyo4k"
      },
      "outputs": [],
      "source": [
        "def dic_indisponibilidade(n_teachers, U):\n",
        "  ind_dic = {}\n",
        "  for i in range(n_teachers):\n",
        "    for u in range(len(U)):\n",
        "      if i == U[u][0]:\n",
        "          if U[u][0] not in ind_dic:\n",
        "            ind_dic[U[u][0]] = [U[u][1]*4+U[u][1]+U[u][2]] \n",
        "          else:\n",
        "            ind_dic[U[u][0]].append(U[u][1]*4+U[u][1]+U[u][2])\n",
        "  return ind_dic\n",
        "\n",
        "dic_indisponibilidade = dic_indisponibilidade(n_teachers,U)\n"
      ]
    },
    {
      "cell_type": "markdown",
      "metadata": {
        "id": "miV9wbFLoGxi"
      },
      "source": [
        "## Passo 3 - Implementação do hard constraint 3 - a teacher must teach at most one lesson per period - um professor deve dar apenas uma aula por período."
      ]
    },
    {
      "cell_type": "code",
      "execution_count": null,
      "metadata": {
        "id": "C0K9VtyqoK1x"
      },
      "outputs": [],
      "source": [
        "def gera_hc3(z,n_teachers,n_periods,turmas,R):\n",
        "  hc3 = 0\n",
        "  for t in range(n_teachers):\n",
        "    for j in range(n_periods):\n",
        "      cont = 0\n",
        "      for c in range(turmas):\n",
        "        index = z[c][j]\n",
        "        if  R[index][1] == t:\n",
        "          cont +=1\n",
        "      if cont > 1:\n",
        "        hc3 += cont -1\n",
        "  return hc3"
      ]
    },
    {
      "cell_type": "markdown",
      "metadata": {
        "id": "5UsjKFC4uDom"
      },
      "source": [
        "## Passo 4 - Implementação da hard constraint 4 - teachers must not be scheduled to periods in which they are unavailable.  - Os professores não devem ser alocados em períodos em que estão indisponíveis"
      ]
    },
    {
      "cell_type": "code",
      "execution_count": null,
      "metadata": {
        "id": "MDKIqWibuR2l"
      },
      "outputs": [],
      "source": [
        "def gera_hc4(z,n_teachers,n_periods,turmas,R,dic_indisponibilidade):\n",
        "  hc4 = 0\n",
        "  for t in range(n_teachers):\n",
        "    for j in range(n_periods):\n",
        "      cont = 0\n",
        "      for c in range(turmas):\n",
        "        index = z[c][j]\n",
        "        if R[index][1] == t and j in dic_indisponibilidade.get(t,[]):\n",
        "          cont = 1\n",
        "          break\n",
        "      hc4 += cont\n",
        "  return hc4"
      ]
    },
    {
      "cell_type": "markdown",
      "metadata": {
        "id": "MU0ST1GVEzlW"
      },
      "source": [
        "### Passo 5 - Implementar hard constraint 5 - each requirement r E R, must not have more than y assignements per day - cada requisito não deve ultrapassar o número máximo de aulas por dia "
      ]
    },
    {
      "cell_type": "code",
      "execution_count": null,
      "metadata": {
        "id": "o_MUVeZmFo5X"
      },
      "outputs": [],
      "source": [
        "def gera_hc5 (z,n_teachers,n_periods,turmas, R):\n",
        "  hc5 = 0\n",
        "  for r in R:\n",
        "    for i in list(np.arange(n_periods).reshape(-1,5)): ###falta generalizar\n",
        "      n_aulas_dia = 0\n",
        "      for j in i:\n",
        "        index = z[r[0]][j]\n",
        "        if R[index] == r:\n",
        "          n_aulas_dia +=1\n",
        "        if n_aulas_dia > r[3]:\n",
        "          hc5 += n_aulas_dia - r[3]\n",
        "  return hc5"
      ]
    },
    {
      "cell_type": "markdown",
      "metadata": {
        "id": "ywUhAxQSTrIk"
      },
      "source": [
        "### Passo 6 - Implementar soft constraint 1 - each requirement r should have at least u double lessons a week - cada requisito deve ter, no mínimo, u aulas duplas na semana"
      ]
    },
    {
      "cell_type": "code",
      "execution_count": null,
      "metadata": {
        "id": "2dRTJ0Q9UBN_"
      },
      "outputs": [],
      "source": [
        "def gera_sc1(R,z,n_periods,turmas):\n",
        "  sc1 = 0 \n",
        "  for r in R:\n",
        "    aula_dupla = 0\n",
        "    for c in range(turmas):\n",
        "      cont = 0\n",
        "      for j in range(n_periods):\n",
        "        if R[z[c][j]] == r:\n",
        "          cont +=1\n",
        "          if cont == 2:\n",
        "            aula_dupla +=1\n",
        "            cont = 0\n",
        "        else:\n",
        "          cont = 0\n",
        "    if aula_dupla < r[2]:\n",
        "      sc1 += r[2] - aula_dupla\n",
        "  return sc1\n",
        "\n",
        "\n"
      ]
    },
    {
      "cell_type": "markdown",
      "metadata": {
        "id": "4G2bp21keOLe"
      },
      "source": [
        "### Passo 7 - Implementar a soft constraint 2 - idle periods in the schedule of teacher should be avoided - períodos ociosos nos horários dos professores devem ser evitados"
      ]
    },
    {
      "cell_type": "code",
      "execution_count": null,
      "metadata": {
        "id": "iRJzifnXelpi"
      },
      "outputs": [],
      "source": [
        "def gera_sc2(z,n_teachers,n_periods,turmas,R):\n",
        "  sc2=0\n",
        "  for t in range(n_teachers):\n",
        "    for d in list(np.arange(n_periods).reshape(-1,5)):\n",
        "      #ntd = 0\n",
        "      em_uso = []\n",
        "      for j in d:\n",
        "        for c in range(turmas):\n",
        "          if R[z[c][j]][1] == t:\n",
        "            em_uso.append(j)\n",
        "      if len(em_uso) >=2:\n",
        "        sc2 += (em_uso[-1] - em_uso[0] - 1) - (len(em_uso) - 2)\n",
        "  return sc2"
      ]
    },
    {
      "cell_type": "markdown",
      "metadata": {
        "id": "stqkDg_plOxS"
      },
      "source": [
        "### Passo 8 - Implementar a soft constraint 3 - the teacher's schedule should be concentrated on a minimum number of days - A escala do professor deve se concentrar no menor número de dias"
      ]
    },
    {
      "cell_type": "code",
      "execution_count": null,
      "metadata": {
        "id": "jtANuzGUlUZv"
      },
      "outputs": [],
      "source": [
        "def gera_sc3(n_teachers,n_periods,turmas,R,z):\n",
        "  sc3 = 0\n",
        "  for t in range(n_teachers):\n",
        "    for d in np.arange(n_periods).reshape(-1,5):\n",
        "      contador = 0\n",
        "      for j in d:\n",
        "        for c in range(turmas):\n",
        "          if R[z[c][j]][1] == t:\n",
        "            contador += 1\n",
        "            if contador == 1:\n",
        "              sc3+=1\n",
        "              break\n",
        "      break\n",
        "  return sc3"
      ]
    },
    {
      "cell_type": "markdown",
      "metadata": {
        "id": "DqSMr51LJm66"
      },
      "source": [
        "## Transformando os passos anteriores em uma função \n",
        "\n",
        "Preciso para os próximos passos no MT, que a função retorne os resultados dos algoritmos das restrições, por isso preciso colocar tudo numa função só passando a matriz Z"
      ]
    },
    {
      "cell_type": "code",
      "execution_count": null,
      "metadata": {
        "id": "9v0wXliUZKwi"
      },
      "outputs": [],
      "source": [
        "def constraints(R,U,z,n_teachers,n_periods,turmas):  \n",
        "  hc3 = gera_hc3(z,n_teachers,n_periods,turmas,R)\n",
        "  hc4 = gera_hc4(z,n_teachers,n_periods,turmas,R,dic_indisponibilidade)\n",
        "  hc5 = gera_hc5(z,n_teachers,n_periods,turmas, R)\n",
        "  sc1 = gera_sc1(R,z,n_periods,turmas)\n",
        "  sc2 = gera_sc2(z,n_teachers,n_periods,turmas,R)\n",
        "  sc3 = gera_sc3(n_teachers,n_periods,turmas,R,z)\n",
        "  return hc3,hc4,hc5,sc1,sc2,sc3"
      ]
    },
    {
      "cell_type": "markdown",
      "metadata": {
        "id": "WuFZxDxEF9LF"
      },
      "source": [
        "## Função-objetivo"
      ]
    },
    {
      "cell_type": "code",
      "execution_count": null,
      "metadata": {
        "id": "uzdKnVsFF_cS"
      },
      "outputs": [],
      "source": [
        "def f(a):\n",
        "  f = 100000*a[0] + 100000*a[1] + 10000*a[2] + 1*a[3] + 3*a[4] + 9*a[5]\n",
        "  return f"
      ]
    },
    {
      "cell_type": "markdown",
      "metadata": {
        "id": "D1T-Smk4E9U4"
      },
      "source": [
        "## Aplicar a solução MT"
      ]
    },
    {
      "cell_type": "code",
      "source": [
        "print(n_periods)\n",
        "print(turmas)"
      ],
      "metadata": {
        "colab": {
          "base_uri": "https://localhost:8080/"
        },
        "id": "Pb-8w7ieO9HC",
        "outputId": "387f7801-de6e-47d2-f86d-62be9dcb5121"
      },
      "execution_count": null,
      "outputs": [
        {
          "output_type": "stream",
          "name": "stdout",
          "text": [
            "25\n",
            "4\n"
          ]
        }
      ]
    },
    {
      "cell_type": "code",
      "source": [
        "z.shape"
      ],
      "metadata": {
        "colab": {
          "base_uri": "https://localhost:8080/"
        },
        "id": "ttgYm5cKPHfg",
        "outputId": "55ebec58-bf32-4c27-d004-13f686fd77ff"
      },
      "execution_count": null,
      "outputs": [
        {
          "output_type": "execute_result",
          "data": {
            "text/plain": [
              "(4, 25)"
            ]
          },
          "metadata": {},
          "execution_count": 88
        }
      ]
    },
    {
      "cell_type": "code",
      "execution_count": null,
      "metadata": {
        "id": "bPooto-5FDov"
      },
      "outputs": [],
      "source": [
        "a =constraints(R,U,z,n_teachers,n_periods,turmas)"
      ]
    },
    {
      "cell_type": "code",
      "execution_count": null,
      "metadata": {
        "id": "5uMTNH0XfInH"
      },
      "outputs": [],
      "source": [
        ""
      ]
    },
    {
      "cell_type": "code",
      "source": [
        "def mt_operator2(R,U,z,n_teachers,n_periods,turmas):\n",
        "  a = constraints(R,U,z,n_teachers,n_periods,turmas)  \n",
        "  g = f(a)\n",
        "  h = 0\n",
        "  i = 2*turmas\n",
        "  while h < g:\n",
        "    g = f(a)\n",
        "    while i>0:\n",
        "      c = rd.choice(range(turmas))\n",
        "      \n",
        "      subset_R = rd.sample(range(n_periods),3)\n",
        "      requisitos = []\n",
        "      for j in subset_R:\n",
        "        requisitos.append(z[c][j])\n",
        "        z[c][j] = -1\n",
        "      \n",
        "      mcap = np.empty((0,3),int)\n",
        "      \n",
        "      for i in requisitos:\n",
        "        lista_mcap = []\n",
        "        \n",
        "        for h in subset_R:\n",
        "          z[c][h] = i\n",
        "          a = constraints(R,U,z,n_teachers,n_periods,turmas)\n",
        "          f_linha = f(a)\n",
        "          lista_mcap.append(f_linha)\n",
        "          z[c][h] = -1\n",
        "        \n",
        "        mcap = np.append(mcap, np.array([lista_mcap]),axis=0)\n",
        "    \n",
        "      row_ind,col_ind = linear_sum_assignment(mcap)\n",
        "      for index,local in enumerate(col_ind):\n",
        "        z[c][subset_R[local]] = requisitos[index]\n",
        "      i = i -1\n",
        "    a = constraints(R,U,z,n_teachers,n_periods,turmas)  \n",
        "    h = f(a)      \n",
        "  return z\n",
        "\n",
        "  \n",
        "\n",
        "    \n",
        "      "
      ],
      "metadata": {
        "id": "JcTciFx1qMw8"
      },
      "execution_count": null,
      "outputs": []
    },
    {
      "cell_type": "code",
      "source": [
        "new_z = mt_operator2(R,U,z,n_teachers,n_periods,turmas)"
      ],
      "metadata": {
        "id": "ajc0u1ELGzW7"
      },
      "execution_count": null,
      "outputs": []
    },
    {
      "cell_type": "code",
      "source": [
        "\n",
        "new_z"
      ],
      "metadata": {
        "colab": {
          "base_uri": "https://localhost:8080/"
        },
        "id": "j_voS2snHLV9",
        "outputId": "97350959-01e3-442b-9e18-fb5e4c37ecd1"
      },
      "execution_count": null,
      "outputs": [
        {
          "output_type": "execute_result",
          "data": {
            "text/plain": [
              "array([[10, 10,  5,  5,  0,  0,  4,  6,  0, 11,  5,  5,  2,  0,  0,  3,\n",
              "         1,  8,  4,  8,  7,  9,  4,  3, 11],\n",
              "       [14, 14, 16, 18, 18, 19, 22, 22, 16, 14, 17, 17, 15, 15, 23, 15,\n",
              "        15, 16, 12, 23, 21, 13, 20, 14, 14],\n",
              "       [33, 27, 28, 26, 25, 27, 27, 29, 32, 35, 26, 26, 30, 33, 33, 31,\n",
              "        30, 27, 28, 35, 34, 26, 26, 24, 24],\n",
              "       [45, 45, 39, 36, 41, 38, 39, 39, 41, 48, 42, 40, 39, 43, 48, 46,\n",
              "        46, 38, 39, 40, 47, 37, 43, 41, 41]])"
            ]
          },
          "metadata": {},
          "execution_count": 118
        }
      ]
    },
    {
      "cell_type": "code",
      "source": [
        "def ils_mt(Z, tempo,n_periods,n_teachers,turmas,R,U):\n",
        "  #atualizar o valor da matriz Z\n",
        "  Z_linha = Z\n",
        "  nao_melhorado = 0\n",
        "  \n",
        "  limite = time.time() + tempo\n",
        "  while time.time() < limite:\n",
        "    Z = pertubation(Z,2, turmas, n_periods)\n",
        "    Z = mt_operator2(R,U,Z,n_teachers,n_periods,turmas)\n",
        "    a_Z = constraints(R,U,Z,n_teachers,n_periods,turmas)\n",
        "    a_Z_linha = constraints(R,U,Z_linha,n_teachers,n_periods,turmas)\n",
        "    if f(a_Z) < f(a_Z_linha):\n",
        "      nao_melhorado = 0\n",
        "    else:\n",
        "      nao_melhorado +=1\n",
        "    if f(a_Z) <= f(a_Z_linha):\n",
        "      Z = Z_linha\n",
        "    if nao_melhorado >= 5:\n",
        "      Z = Z_linha\n",
        "      nao_melhorado = 0\n",
        "  obj = constraints(R,U,Z_linha,n_teachers,n_periods,turmas)\n",
        "  func_obj = f(obj)\n",
        "  return Z_linha,func_obj\n",
        "\n",
        "  \n"
      ],
      "metadata": {
        "id": "gtx7bPlOSvJV"
      },
      "execution_count": null,
      "outputs": []
    },
    {
      "cell_type": "code",
      "source": [
        "#média do valor da função objetivo\n",
        "valores = []\n",
        "for i in range(10):\n",
        "  matriz,valor_func_obj = ils_mt(z, 100,n_periods,n_teachers,turmas,R,U)\n",
        "  valores.append(valor_func_obj)\n",
        "print(sum(valores)/len(valores))\n"
      ],
      "metadata": {
        "colab": {
          "base_uri": "https://localhost:8080/"
        },
        "id": "GmgFiOdUfS3g",
        "outputId": "4e06e117-00e2-4606-d184-8d9492ea2a43"
      },
      "execution_count": null,
      "outputs": [
        {
          "output_type": "stream",
          "name": "stdout",
          "text": [
            "130149.2\n"
          ]
        }
      ]
    },
    {
      "cell_type": "code",
      "source": [
        "matriz"
      ],
      "metadata": {
        "colab": {
          "base_uri": "https://localhost:8080/"
        },
        "id": "lc0DpSyPhBnA",
        "outputId": "d5586b73-bcb3-4e62-9233-034d7e420b38"
      },
      "execution_count": null,
      "outputs": [
        {
          "output_type": "execute_result",
          "data": {
            "text/plain": [
              "array([[ 8,  8,  5,  5,  0,  3,  3,  2,  6,  9,  0,  0,  4,  0,  1,  4,\n",
              "         4,  5,  5, 11,  7,  0, 10, 10, 11],\n",
              "       [15, 15, 18, 22, 22, 14, 16, 16, 18, 23, 13, 21, 17, 17, 14, 16,\n",
              "        15, 19, 23, 14, 20, 15, 12, 14, 14],\n",
              "       [28, 28, 26, 26, 29, 24, 24, 26, 26, 35, 31, 33, 27, 27, 35, 30,\n",
              "        30, 33, 26, 27, 33, 32, 34, 27, 25],\n",
              "       [39, 39, 46, 40, 40, 41, 41, 43, 45, 48, 41, 41, 39, 45, 38, 46,\n",
              "        36, 39, 43, 38, 42, 37, 39, 47, 48]])"
            ]
          },
          "metadata": {},
          "execution_count": 34
        }
      ]
    },
    {
      "cell_type": "code",
      "source": [
        "def pertubation(z, dias, turmas,n_periods):\n",
        "    indices = [0,5,10,15,20]\n",
        "    dic_id = {0:[0,1,2,3,4], 5:[5,6,7,8,9],10:[10,11,12,13,14],15:[15,16,17,18,19], 20:[20,21,22,23,24]}\n",
        "    # escolher dois desses dias aleatoriamente e colocar mais 5\n",
        "    dias = rd.sample(indices,k=dias)\n",
        "    linha_aleatoria = rd.choice(range(turmas))\n",
        "    req_sorteado = z[linha_aleatoria][dias[0]]\n",
        "\n",
        "    t = R[req_sorteado][1]\n",
        "\n",
        "    for c in range(turmas):\n",
        "      D = [j for i in dias for j in dic_id]\n",
        "      for k in D:\n",
        "        if R[z[c][k]][1] == t:\n",
        "          if k<24:\n",
        "            z[c][k],z[c][k+1] = z[c][k+1],z[c][k]\n",
        "          if k==24:\n",
        "            z[c][k],z[c][k-1] = z[c][k-1],z[c][k]\n",
        "    \n",
        "    return z\n",
        "\n",
        "      \n",
        "\n",
        "\n",
        "\n"
      ],
      "metadata": {
        "id": "SLuQPtTpPg9v"
      },
      "execution_count": null,
      "outputs": []
    },
    {
      "cell_type": "markdown",
      "source": [
        "### Experimentos"
      ],
      "metadata": {
        "id": "wsaIQ7hBy8SC"
      }
    },
    {
      "cell_type": "code",
      "source": [
        "z_ils = ils_mt(new_z,100,n_periods,n_teachers, turmas, R,U)"
      ],
      "metadata": {
        "id": "dKdV3WNlIsDW"
      },
      "execution_count": null,
      "outputs": []
    },
    {
      "cell_type": "code",
      "source": [
        "z_ils"
      ],
      "metadata": {
        "colab": {
          "base_uri": "https://localhost:8080/"
        },
        "id": "OHlXtgiFavN9",
        "outputId": "82b813cb-11b1-422f-c2b3-fc4909e65c91"
      },
      "execution_count": null,
      "outputs": [
        {
          "output_type": "execute_result",
          "data": {
            "text/plain": [
              "array([[10, 10,  5,  5,  0,  0,  4,  6,  0, 11,  5,  5,  2,  0,  0,  3,\n",
              "         1,  8,  4,  8,  7,  9,  4,  3, 11],\n",
              "       [14, 14, 16, 18, 18, 19, 22, 22, 16, 14, 17, 17, 15, 15, 23, 15,\n",
              "        15, 16, 12, 23, 21, 13, 20, 14, 14],\n",
              "       [33, 27, 28, 26, 25, 27, 27, 29, 32, 35, 26, 26, 30, 33, 33, 31,\n",
              "        30, 27, 28, 35, 34, 26, 26, 24, 24],\n",
              "       [45, 45, 39, 36, 41, 38, 39, 39, 41, 48, 42, 40, 39, 43, 48, 46,\n",
              "        46, 38, 39, 40, 47, 37, 43, 41, 41]])"
            ]
          },
          "metadata": {},
          "execution_count": 113
        }
      ]
    },
    {
      "cell_type": "code",
      "source": [
        "ils = constraints(R,U,z_ils,n_teachers,n_periods,turmas)"
      ],
      "metadata": {
        "id": "m2Xm3YeGdQHC"
      },
      "execution_count": null,
      "outputs": []
    },
    {
      "cell_type": "code",
      "source": [
        "f(construtivo)"
      ],
      "metadata": {
        "colab": {
          "base_uri": "https://localhost:8080/"
        },
        "id": "s-ceGqQpd3QT",
        "outputId": "c3ed91ec-d435-4e47-e4bb-443d4975d800"
      },
      "execution_count": null,
      "outputs": [
        {
          "output_type": "execute_result",
          "data": {
            "text/plain": [
              "2730165"
            ]
          },
          "metadata": {},
          "execution_count": 28
        }
      ]
    },
    {
      "cell_type": "code",
      "source": [
        "f(mt)"
      ],
      "metadata": {
        "colab": {
          "base_uri": "https://localhost:8080/"
        },
        "id": "2qf-YCZEd6XP",
        "outputId": "620bee14-8747-4d4c-b798-1f0498382768"
      },
      "execution_count": null,
      "outputs": [
        {
          "output_type": "execute_result",
          "data": {
            "text/plain": [
              "2530168"
            ]
          },
          "metadata": {},
          "execution_count": 29
        }
      ]
    },
    {
      "cell_type": "code",
      "source": [
        "f(ils)"
      ],
      "metadata": {
        "colab": {
          "base_uri": "https://localhost:8080/"
        },
        "id": "C2xrDqnId7oP",
        "outputId": "0bb69e7e-2f19-47fd-c972-ae93cadb670a"
      },
      "execution_count": null,
      "outputs": [
        {
          "output_type": "execute_result",
          "data": {
            "text/plain": [
              "152"
            ]
          },
          "metadata": {},
          "execution_count": 30
        }
      ]
    },
    {
      "cell_type": "code",
      "source": [
        "horario_atual = np.array([[0,0,1,2,11,3,3,4,4,4,5,5,6,7,0,8,8,0,0,11,9,10,10,5,5],\n",
        "                         [12,13,14,15,15,14,14,16,17,17,14,14,15,15,23,18,18,16,16,23,19,20,21,22,22],\n",
        "                         [24,24,25,26,35,27,27,28,28,29,30,30,31,32,35,26,26,27,27,26,26,33,34,33,33],\n",
        "                         [36,37,38,38,39,40,40,41,41,42,43,44,39,39,48,45,45,46,46,48,41,41,39,39,47]])"
      ],
      "metadata": {
        "id": "DWmdhuPvd8c-"
      },
      "execution_count": null,
      "outputs": []
    },
    {
      "cell_type": "code",
      "source": [
        "atual = constraints(R,U,z_ils,n_teachers,n_periods,turmas)"
      ],
      "metadata": {
        "id": "LetZ0NVzlwIy"
      },
      "execution_count": null,
      "outputs": []
    },
    {
      "cell_type": "code",
      "source": [
        "f(atual)"
      ],
      "metadata": {
        "colab": {
          "base_uri": "https://localhost:8080/"
        },
        "id": "npkUTWCrl1PP",
        "outputId": "ed02d630-1b66-441d-9ad9-04cbe264d5fe"
      },
      "execution_count": null,
      "outputs": [
        {
          "output_type": "execute_result",
          "data": {
            "text/plain": [
              "200117"
            ]
          },
          "metadata": {},
          "execution_count": 39
        }
      ]
    },
    {
      "cell_type": "code",
      "source": [
        "atual"
      ],
      "metadata": {
        "colab": {
          "base_uri": "https://localhost:8080/"
        },
        "id": "EQNZnsgCvlTX",
        "outputId": "e40954c3-7d9a-4d98-e6bd-9347c5132a1b"
      },
      "execution_count": null,
      "outputs": [
        {
          "output_type": "execute_result",
          "data": {
            "text/plain": [
              "(1, 1, 0, 78, 1, 4)"
            ]
          },
          "metadata": {},
          "execution_count": 46
        }
      ]
    },
    {
      "cell_type": "code",
      "source": [
        "f(ils)"
      ],
      "metadata": {
        "colab": {
          "base_uri": "https://localhost:8080/"
        },
        "id": "ZH1vuPKql3Fg",
        "outputId": "a75da813-69cc-427a-cc9f-78b9f914a489"
      },
      "execution_count": null,
      "outputs": [
        {
          "output_type": "execute_result",
          "data": {
            "text/plain": [
              "152"
            ]
          },
          "metadata": {},
          "execution_count": 40
        }
      ]
    },
    {
      "cell_type": "code",
      "source": [
        "ils"
      ],
      "metadata": {
        "colab": {
          "base_uri": "https://localhost:8080/"
        },
        "id": "hVhBOeaql66c",
        "outputId": "ce3994aa-8e47-4870-ca11-08c891d986cf"
      },
      "execution_count": null,
      "outputs": [
        {
          "output_type": "execute_result",
          "data": {
            "text/plain": [
              "(0, 0, 0, 80, 6, 6)"
            ]
          },
          "metadata": {},
          "execution_count": 41
        }
      ]
    },
    {
      "cell_type": "code",
      "source": [
        "z_ils"
      ],
      "metadata": {
        "colab": {
          "base_uri": "https://localhost:8080/"
        },
        "id": "83iE7fZwl7wX",
        "outputId": "9d7f6f72-b16f-4c6c-8441-25a77f6ad67f"
      },
      "execution_count": null,
      "outputs": [
        {
          "output_type": "execute_result",
          "data": {
            "text/plain": [
              "array([[ 8,  8,  5,  5,  0,  3,  3,  2,  6,  9,  0,  0,  4,  0,  1,  4,\n",
              "         4,  5,  5, 11,  7,  0, 10, 10, 11],\n",
              "       [15, 15, 18, 22, 22, 14, 16, 16, 18, 23, 13, 21, 17, 17, 14, 16,\n",
              "        15, 19, 23, 14, 20, 15, 12, 14, 14],\n",
              "       [28, 28, 26, 26, 29, 24, 24, 26, 26, 35, 31, 33, 27, 27, 35, 30,\n",
              "        30, 33, 26, 27, 33, 32, 34, 27, 25],\n",
              "       [39, 39, 46, 40, 40, 41, 41, 43, 45, 48, 41, 41, 39, 45, 38, 46,\n",
              "        36, 39, 43, 38, 42, 37, 39, 47, 48]])"
            ]
          },
          "metadata": {},
          "execution_count": 42
        }
      ]
    },
    {
      "cell_type": "code",
      "source": [
        ""
      ],
      "metadata": {
        "id": "IEC3pr-rmA4W"
      },
      "execution_count": null,
      "outputs": []
    }
  ],
  "metadata": {
    "colab": {
      "name": "Algoritmo Time-tabling",
      "provenance": [],
      "authorship_tag": "ABX9TyN7RnYdenQv61YcZSy2ThdR",
      "include_colab_link": true
    },
    "kernelspec": {
      "display_name": "Python 3",
      "name": "python3"
    },
    "language_info": {
      "name": "python"
    }
  },
  "nbformat": 4,
  "nbformat_minor": 0
}